{
  "nbformat": 4,
  "nbformat_minor": 0,
  "metadata": {
    "colab": {
      "provenance": [],
      "include_colab_link": true
    },
    "kernelspec": {
      "name": "python3",
      "display_name": "Python 3"
    },
    "language_info": {
      "name": "python"
    }
  },
  "cells": [
    {
      "cell_type": "markdown",
      "metadata": {
        "id": "view-in-github",
        "colab_type": "text"
      },
      "source": [
        "<a href=\"https://colab.research.google.com/github/ZackMaster-16/Plagiarism-checker-ai/blob/main/MyML.ipynb\" target=\"_parent\"><img src=\"https://colab.research.google.com/assets/colab-badge.svg\" alt=\"Open In Colab\"/></a>"
      ]
    },
    {
      "cell_type": "code",
      "execution_count": null,
      "metadata": {
        "id": "uX-R3UAXpsaW"
      },
      "outputs": [],
      "source": [
        "# Import necessary libraries\n",
        "import zipfile  # For working with zip files\n",
        "import pandas as pd  # For data manipulation and analysis\n",
        "from sklearn.model_selection import train_test_split  # To split data into train/test sets\n",
        "from sklearn.feature_extraction.text import TfidfVectorizer  # To convert text to numerical features\n",
        "from sklearn.linear_model import LogisticRegression  # Logistic Regression classifier\n",
        "from sklearn.svm import SVC  # Support Vector Machine classifier\n",
        "from sklearn.naive_bayes import MultinomialNB  # Naive Bayes classifier\n",
        "from sklearn.tree import DecisionTreeClassifier  # Decision Tree classifier\n",
        "from sklearn.ensemble import RandomForestClassifier  # Random Forest classifier\n",
        "from sklearn.metrics import accuracy_score  # To calculate model accuracy"
      ]
    },
    {
      "cell_type": "code",
      "source": [
        "# Unzip and load the data\n",
        "zip_path = 'archive.zip'\n",
        "with zipfile.ZipFile(zip_path, 'r') as z:\n",
        "    with z.open('train_snli.txt') as f:\n",
        "        df = pd.read_csv(f, sep='\\t', header=None, names=['sentence1', 'sentence2', 'label'])"
      ],
      "metadata": {
        "id": "xmPJ8pdPp1f6"
      },
      "execution_count": null,
      "outputs": []
    },
    {
      "cell_type": "code",
      "source": [
        "# Basic data cleaning\n",
        "df = df.dropna()\n",
        "df['sentence1'] = df['sentence1'].str.lower().str.replace(r'[^\\w\\s]', '', regex=True)\n",
        "df['sentence2'] = df['sentence2'].str.lower().str.replace(r'[^\\w\\s]', '', regex=True)\n",
        "df['text'] = df['sentence1'] + ' ' + df['sentence2']"
      ],
      "metadata": {
        "id": "Plvx9bDNp1iO"
      },
      "execution_count": null,
      "outputs": []
    },
    {
      "cell_type": "code",
      "source": [
        "# Split into training and testing sets\n",
        "X_train, X_test, y_train, y_test = train_test_split(\n",
        "    df['text'], df['label'], test_size=0.2, random_state=42\n",
        ")\n"
      ],
      "metadata": {
        "id": "cIrjMovVp1kh"
      },
      "execution_count": null,
      "outputs": []
    },
    {
      "cell_type": "code",
      "source": [
        "# Vectorize text using TF-IDF\n",
        "vectorizer = TfidfVectorizer(max_features=10000)\n",
        "X_train_tfidf = vectorizer.fit_transform(X_train)\n",
        "X_test_tfidf = vectorizer.transform(X_test)\n"
      ],
      "metadata": {
        "id": "uI_Hi5Xpp1my"
      },
      "execution_count": null,
      "outputs": []
    },
    {
      "cell_type": "code",
      "source": [
        "# Define classifiers\n",
        "classifiers = {\n",
        "    'Logistic Regression': LogisticRegression(max_iter=1000),\n",
        "    'SVM (Linear Kernel)': SVC(kernel='linear'),\n",
        "    'Multinomial NB': MultinomialNB(),\n",
        "    'Decision Tree': DecisionTreeClassifier(random_state=42),\n",
        "    'Random Forest': RandomForestClassifier(n_estimators=100, n_jobs=-1, random_state=42)\n",
        "}"
      ],
      "metadata": {
        "id": "U2gJbI8Kp1q8"
      },
      "execution_count": null,
      "outputs": []
    },
    {
      "cell_type": "code",
      "source": [
        "# Train and evaluate\n",
        "results = {}\n",
        "for name, clf in classifiers.items():\n",
        "    clf.fit(X_train_tfidf, y_train)\n",
        "    preds = clf.predict(X_test_tfidf)\n",
        "    acc = accuracy_score(y_test, preds)\n",
        "    results[name] = acc"
      ],
      "metadata": {
        "id": "GiNrgrvEp1tn"
      },
      "execution_count": null,
      "outputs": []
    },
    {
      "cell_type": "code",
      "source": [
        "\n",
        "# Present results\n",
        "results_df = pd.DataFrame.from_dict(results, orient='index', columns=['Accuracy']).sort_values(by='Accuracy', ascending=False)\n",
        "# import ace_tools as tools;\n",
        "# tools.display_dataframe_to_user(name=\"Model Accuracies\", dataframe=results_df)\n",
        "print(results_df)"
      ],
      "metadata": {
        "id": "4jsRudNep1wB"
      },
      "execution_count": null,
      "outputs": []
    },
    {
      "cell_type": "code",
      "source": [
        "# Print best model\n",
        "best_model = results_df.index[0]\n",
        "best_acc = results_df.iloc[0, 0]\n",
        "print(f\"Best model: {best_model} with accuracy {best_acc:.4f}\")"
      ],
      "metadata": {
        "id": "__qnklG4p1yE"
      },
      "execution_count": null,
      "outputs": []
    }
  ]
}